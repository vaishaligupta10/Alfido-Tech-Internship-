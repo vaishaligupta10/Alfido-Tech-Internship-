{
 "cells": [
  {
   "cell_type": "code",
   "execution_count": 1,
   "id": "1b4b8b64-00bd-4864-a556-d42eba561f5b",
   "metadata": {},
   "outputs": [
    {
     "name": "stdout",
     "output_type": "stream",
     "text": [
      "Basic Calculator\n",
      "Select operation:\n",
      "1. Addition (+)\n",
      "2. Subtraction (-)\n",
      "3. Multiplication (*)\n",
      "4. Division (/)\n"
     ]
    },
    {
     "name": "stdin",
     "output_type": "stream",
     "text": [
      "Enter choice (1/2/3/4):  1\n",
      "Enter first number:  6\n",
      "Enter second number:  4\n"
     ]
    },
    {
     "name": "stdout",
     "output_type": "stream",
     "text": [
      "Result: 10.0\n"
     ]
    }
   ],
   "source": [
    "# def add(x, y):\n",
    "    return x + y\n",
    "\n",
    "def subtract(x, y):\n",
    "    return x - y\n",
    "\n",
    "def multiply(x, y):\n",
    "    return x * y\n",
    "\n",
    "def divide(x, y):\n",
    "    if y == 0:\n",
    "        return \"Error: Division by zero!\"\n",
    "    return x / y\n",
    "\n",
    "def calculator():\n",
    "    print(\"Basic Calculator\")\n",
    "    print(\"Select operation:\")\n",
    "    print(\"1. Addition (+)\")\n",
    "    print(\"2. Subtraction (-)\")\n",
    "    print(\"3. Multiplication (*)\")\n",
    "    print(\"4. Division (/)\")\n",
    "\n",
    "    choice = input(\"Enter choice (1/2/3/4): \")\n",
    "\n",
    "    if choice in ('1', '2', '3', '4'):\n",
    "        try:\n",
    "            num1 = float(input(\"Enter first number: \"))\n",
    "            num2 = float(input(\"Enter second number: \"))\n",
    "        except ValueError:\n",
    "            print(\"Invalid input. Please enter numeric values.\")\n",
    "            return\n",
    "\n",
    "        if choice == '1':\n",
    "            print(\"Result:\", add(num1, num2))\n",
    "        elif choice == '2':\n",
    "            print(\"Result:\", subtract(num1, num2))\n",
    "        elif choice == '3':\n",
    "            print(\"Result:\", multiply(num1, num2))\n",
    "        elif choice == '4':\n",
    "            print(\"Result:\", divide(num1, num2))\n",
    "    else:\n",
    "        print(\"Invalid choice. Please select a valid option.\")\n",
    "\n",
    "if __name__ == \"__main__\":\n",
    "    calculator()\n"
   ]
  }
 ],
 "metadata": {
  "kernelspec": {
   "display_name": "Python 3 (ipykernel)",
   "language": "python",
   "name": "python3"
  },
  "language_info": {
   "codemirror_mode": {
    "name": "ipython",
    "version": 3
   },
   "file_extension": ".py",
   "mimetype": "text/x-python",
   "name": "python",
   "nbconvert_exporter": "python",
   "pygments_lexer": "ipython3",
   "version": "3.13.5"
  }
 },
 "nbformat": 4,
 "nbformat_minor": 5
}
