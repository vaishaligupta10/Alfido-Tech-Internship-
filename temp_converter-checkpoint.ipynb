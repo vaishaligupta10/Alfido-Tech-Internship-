{
 "cells": [
  {
   "cell_type": "code",
   "execution_count": 1,
   "id": "89c1ee9c-2b0a-445c-a016-1d7e99aa3a5e",
   "metadata": {},
   "outputs": [
    {
     "name": "stdout",
     "output_type": "stream",
     "text": [
      "Temperature Converter\n"
     ]
    },
    {
     "name": "stdin",
     "output_type": "stream",
     "text": [
      "Enter temperature:  33\n",
      "Is this in (C)elsius, (F)ahrenheit, or (K)elvin?  F\n"
     ]
    },
    {
     "name": "stdout",
     "output_type": "stream",
     "text": [
      "33.0°F = 0.56°C = 273.71K\n"
     ]
    }
   ],
   "source": [
    "print(\"Temperature Converter\")\n",
    "\n",
    "temp = float(input(\"Enter temperature: \"))\n",
    "unit = input(\"Is this in (C)elsius, (F)ahrenheit, or (K)elvin? \").upper()\n",
    "\n",
    "if unit == \"C\":\n",
    "    f = (temp * 9/5) + 32\n",
    "    k = temp + 273.15\n",
    "    print(f\"{temp}°C = {f:.2f}°F = {k:.2f}K\")\n",
    "\n",
    "elif unit == \"F\":\n",
    "    c = (temp - 32) * 5/9\n",
    "    k = c + 273.15\n",
    "    print(f\"{temp}°F = {c:.2f}°C = {k:.2f}K\")\n",
    "\n",
    "elif unit == \"K\":\n",
    "    c = temp - 273.15\n",
    "    f = (c * 9/5) + 32\n",
    "    print(f\"{temp}K = {c:.2f}°C = {f:.2f}°F\")\n",
    "\n",
    "else:\n",
    "    print(\"Invalid unit! Use C, F, or K.\")\n"
   ]
  }
 ],
 "metadata": {
  "kernelspec": {
   "display_name": "Python 3 (ipykernel)",
   "language": "python",
   "name": "python3"
  },
  "language_info": {
   "codemirror_mode": {
    "name": "ipython",
    "version": 3
   },
   "file_extension": ".py",
   "mimetype": "text/x-python",
   "name": "python",
   "nbconvert_exporter": "python",
   "pygments_lexer": "ipython3",
   "version": "3.13.5"
  }
 },
 "nbformat": 4,
 "nbformat_minor": 5
}
