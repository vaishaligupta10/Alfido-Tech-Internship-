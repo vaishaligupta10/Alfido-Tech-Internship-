{
 "cells": [
  {
   "cell_type": "code",
   "execution_count": 1,
   "id": "32f82687-1d57-4f0f-8ec7-527900da6c7f",
   "metadata": {},
   "outputs": [
    {
     "name": "stdout",
     "output_type": "stream",
     "text": [
      "\n",
      "To-Do List:\n",
      "1. View tasks\n",
      "2. Add task\n",
      "3. Remove task\n",
      "4. Exit\n"
     ]
    },
    {
     "name": "stdin",
     "output_type": "stream",
     "text": [
      "Choose an option (1-4):  1\n"
     ]
    },
    {
     "name": "stdout",
     "output_type": "stream",
     "text": [
      "No tasks yet.\n",
      "\n",
      "To-Do List:\n",
      "1. View tasks\n",
      "2. Add task\n",
      "3. Remove task\n",
      "4. Exit\n"
     ]
    },
    {
     "name": "stdin",
     "output_type": "stream",
     "text": [
      "Choose an option (1-4):  2\n",
      "Enter a new task:  To complete assignment\n"
     ]
    },
    {
     "name": "stdout",
     "output_type": "stream",
     "text": [
      "Task added.\n",
      "\n",
      "To-Do List:\n",
      "1. View tasks\n",
      "2. Add task\n",
      "3. Remove task\n",
      "4. Exit\n"
     ]
    },
    {
     "name": "stdin",
     "output_type": "stream",
     "text": [
      "Choose an option (1-4):  1\n"
     ]
    },
    {
     "name": "stdout",
     "output_type": "stream",
     "text": [
      "1. To complete assignment\n",
      "\n",
      "To-Do List:\n",
      "1. View tasks\n",
      "2. Add task\n",
      "3. Remove task\n",
      "4. Exit\n"
     ]
    },
    {
     "name": "stdin",
     "output_type": "stream",
     "text": [
      "Choose an option (1-4):  3\n"
     ]
    },
    {
     "name": "stdout",
     "output_type": "stream",
     "text": [
      "1. To complete assignment\n"
     ]
    },
    {
     "name": "stdin",
     "output_type": "stream",
     "text": [
      "Enter task number to remove:  To complete assignment\n"
     ]
    },
    {
     "name": "stdout",
     "output_type": "stream",
     "text": [
      "Please enter a valid number.\n",
      "\n",
      "To-Do List:\n",
      "1. View tasks\n",
      "2. Add task\n",
      "3. Remove task\n",
      "4. Exit\n"
     ]
    },
    {
     "name": "stdin",
     "output_type": "stream",
     "text": [
      "Choose an option (1-4):  3\n"
     ]
    },
    {
     "name": "stdout",
     "output_type": "stream",
     "text": [
      "1. To complete assignment\n"
     ]
    },
    {
     "name": "stdin",
     "output_type": "stream",
     "text": [
      "Enter task number to remove:  1\n"
     ]
    },
    {
     "name": "stdout",
     "output_type": "stream",
     "text": [
      "Removed: To complete assignment\n",
      "\n",
      "To-Do List:\n",
      "1. View tasks\n",
      "2. Add task\n",
      "3. Remove task\n",
      "4. Exit\n"
     ]
    },
    {
     "name": "stdin",
     "output_type": "stream",
     "text": [
      "Choose an option (1-4):  4\n"
     ]
    },
    {
     "name": "stdout",
     "output_type": "stream",
     "text": [
      "Goodbye!\n"
     ]
    }
   ],
   "source": [
    "# tasks = []\n",
    "\n",
    "while True:\n",
    "    print(\"\\nTo-Do List:\")\n",
    "    print(\"1. View tasks\")\n",
    "    print(\"2. Add task\")\n",
    "    print(\"3. Remove task\")\n",
    "    print(\"4. Exit\")\n",
    "\n",
    "    choice = input(\"Choose an option (1-4): \")\n",
    "\n",
    "    if choice == \"1\":\n",
    "        if not tasks:\n",
    "            print(\"No tasks yet.\")\n",
    "        else:\n",
    "            for i, task in enumerate(tasks):\n",
    "                print(f\"{i + 1}. {task}\")\n",
    "    elif choice == \"2\":\n",
    "        task = input(\"Enter a new task: \")\n",
    "        tasks.append(task)\n",
    "        print(\"Task added.\")\n",
    "    elif choice == \"3\":\n",
    "        for i, task in enumerate(tasks):\n",
    "            print(f\"{i + 1}. {task}\")\n",
    "        try:\n",
    "            index = int(input(\"Enter task number to remove: \")) - 1\n",
    "            if 0 <= index < len(tasks):\n",
    "                removed = tasks.pop(index)\n",
    "                print(f\"Removed: {removed}\")\n",
    "            else:\n",
    "                print(\"Invalid number.\")\n",
    "        except:\n",
    "            print(\"Please enter a valid number.\")\n",
    "    elif choice == \"4\":\n",
    "        print(\"Goodbye!\")\n",
    "        break\n",
    "    else:\n",
    "        print(\"Invalid option.\")\n"
   ]
  }
 ],
 "metadata": {
  "kernelspec": {
   "display_name": "Python 3 (ipykernel)",
   "language": "python",
   "name": "python3"
  },
  "language_info": {
   "codemirror_mode": {
    "name": "ipython",
    "version": 3
   },
   "file_extension": ".py",
   "mimetype": "text/x-python",
   "name": "python",
   "nbconvert_exporter": "python",
   "pygments_lexer": "ipython3",
   "version": "3.13.5"
  }
 },
 "nbformat": 4,
 "nbformat_minor": 5
}
